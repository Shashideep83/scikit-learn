{
 "cells": [
  {
   "cell_type": "markdown",
   "metadata": {},
   "source": [
    "# The Machine Learning Model\n",
    "\n",
    "## What is a model?\n",
    "\n",
    "The word **model** is thrown around loosely in the world of machine learning so depending on the source or context, its definition may vary.\n",
    "\n",
    "### The most generic definition of a model\n",
    "\n",
    "In our context, when the word model is mentioned, it will refer to something that helps us **represent the real world**. Models are a simplification of the underlying process to help us gain an understanding about something that we are interested in. For instance, maps model the location of places on earth and help us navigate between different locations. Maps are a great simplifications of the world around us, but provide enough information to complete a task and therefore are useful models. Even rudimentary maps drawn by hand can be enough to navigate between two places.\n",
    "\n",
    "### Mathematical models\n",
    "\n",
    "A mathematical model uses mathematical equations, or at a minimum, mathematical language to represent something in the real world. For instance, estimating the volume of a pumpkin by using the equation for a sphere ($\\frac{4}{3}\\pi r^3$) won't be exact, but will be better than randomly guessing.\n",
    "\n",
    "## Machine learning models\n",
    "\n",
    "In this course, we focus on machine learning models, which are a subset of mathematical models that **learn from data**. For instance, if we were interested in modeling the sale price of a house based on its square footage, we would first need to collect data on both the square footage and sale price of many houses. We could then build a mathematical model to help describe the relationship.\n",
    "\n",
    "### Examples of machine learning models\n",
    "\n",
    "There are many types of machine learning models that exist to explore the relationship between two variables. Let's see some examples of these expressed with simple language. We use the housing dataset to describe the relationship between square footage and final sale price.\n",
    "\n",
    "#### Model 1\n",
    "\n",
    "Use the average sale price of all houses as the estimated final sale price.\n",
    "\n",
    "#### Model 2\n",
    "\n",
    "Find the cost per square foot of each house in the dataset. Then, use the average of this statistic to estimate each individual house's sale price.\n",
    "\n",
    "#### Model 3\n",
    "\n",
    "Divide houses into 3 groups based on their size - those less than 1,500 square feet, 1,500-2,000, and those over 2,000. For each group, use the average sale price of that group as the estimated sale price.\n",
    "\n",
    "### All of these models learn from data\n",
    "\n",
    "The distinguishing feature of all machine learning models is that they must **learn from data**. Each of the models above learns from data. The learning is quite simple, but there is learning, and it comes directly from the data.\n",
    "\n",
    "## Create each model\n",
    "\n",
    "The descriptions for the models above provide sufficient mathematical language to implement them programmatically. Let's begin by reading in the data and calculating some of the statistics needed for each model."
   ]
  },
  {
   "cell_type": "code",
   "execution_count": null,
   "metadata": {},
   "outputs": [],
   "source": [
    "import pandas as pd\n",
    "housing = pd.read_csv('../data/housing_sample.csv')\n",
    "housing.head()"
   ]
  },
  {
   "cell_type": "markdown",
   "metadata": {},
   "source": [
    "Model 1 requires the average sale price."
   ]
  },
  {
   "cell_type": "code",
   "execution_count": null,
   "metadata": {},
   "outputs": [],
   "source": [
    "mean_price = housing['SalePrice'].mean()\n",
    "mean_price"
   ]
  },
  {
   "cell_type": "markdown",
   "metadata": {},
   "source": [
    "Model 2 requires the average price per square foot for each house."
   ]
  },
  {
   "cell_type": "code",
   "execution_count": null,
   "metadata": {},
   "outputs": [],
   "source": [
    "price_per_sq_foot = (housing['SalePrice'] / housing['GrLivArea']).mean()\n",
    "price_per_sq_foot"
   ]
  },
  {
   "cell_type": "markdown",
   "metadata": {},
   "source": [
    "Model 3 requires more prep work. We use the `query` method to find the group of houses that meet each of three conditions and then take the mean of the sale price. The end result is a list of three prices."
   ]
  },
  {
   "cell_type": "code",
   "execution_count": null,
   "metadata": {},
   "outputs": [],
   "source": [
    "group_price = [housing.query('GrLivArea < 1500')['SalePrice'].mean(),\n",
    "               housing.query('1500 <= GrLivArea <= 2000')['SalePrice'].mean(),\n",
    "               housing.query('GrLivArea > 2000')['SalePrice'].mean()]\n",
    "group_price"
   ]
  },
  {
   "cell_type": "markdown",
   "metadata": {},
   "source": [
    "### Create functions to make predictions\n",
    "\n",
    "All three of these models learned from the data by calculating some statistic. Let's create a function for each model that uses the statistic to make a prediction. Each model returns a prediction of the final sale price rounded to the nearest thousand."
   ]
  },
  {
   "cell_type": "code",
   "execution_count": null,
   "metadata": {},
   "outputs": [],
   "source": [
    "def model_1_simple_avg(sq_foot):\n",
    "    return round(mean_price, -3)\n",
    "\n",
    "def model_2_avg_ppsf(sq_foot):\n",
    "    return round(price_per_sq_foot * sq_foot, -3)\n",
    "\n",
    "def model_3_bin_avg(sq_foot):\n",
    "    cat = 0 if sq_foot < 1500 else 1 if sq_foot <= 2000 else 2\n",
    "    return round(group_price[cat], -3)"
   ]
  },
  {
   "cell_type": "markdown",
   "metadata": {},
   "source": [
    "### Make predictions with the model\n",
    "Now that the models are created, we can use them to understand the real world. In our case, we can use them to predict the final sale price given the square footage. Let's predict sale prices for both 1,000 and 3,000 square foot houses."
   ]
  },
  {
   "cell_type": "code",
   "execution_count": null,
   "metadata": {},
   "outputs": [],
   "source": [
    "model_1_simple_avg(1000), model_1_simple_avg(3000)"
   ]
  },
  {
   "cell_type": "code",
   "execution_count": null,
   "metadata": {},
   "outputs": [],
   "source": [
    "model_2_avg_ppsf(1000), model_2_avg_ppsf(3000)"
   ]
  },
  {
   "cell_type": "code",
   "execution_count": null,
   "metadata": {},
   "outputs": [],
   "source": [
    "model_3_bin_avg(1000), model_3_bin_avg(3000)"
   ]
  },
  {
   "cell_type": "markdown",
   "metadata": {},
   "source": [
    "## Plotting a range of predictions\n",
    "\n",
    "Instead of calculating just two predictions on for each model, let's calculate several more and plot each model as a line. First, we create a DataFrame with the predicted values for a range of house square footages."
   ]
  },
  {
   "cell_type": "code",
   "execution_count": null,
   "metadata": {},
   "outputs": [],
   "source": [
    "sq_feet = range(1000, 3500, 500)\n",
    "models = [model_1_simple_avg, model_2_avg_ppsf, model_3_bin_avg]\n",
    "data = {model.__name__: [model(sq) for sq in sq_feet] for model in models}\n",
    "df_predictions = pd.DataFrame(data=data, index=sq_feet)\n",
    "df_predictions"
   ]
  },
  {
   "cell_type": "markdown",
   "metadata": {},
   "source": [
    "We can now make a plot of each model to help make a visual comparison."
   ]
  },
  {
   "cell_type": "code",
   "execution_count": null,
   "metadata": {},
   "outputs": [],
   "source": [
    "%matplotlib inline\n",
    "df_predictions.plot(title='Square Feet vs Price', figsize=(12, 5));"
   ]
  }
 ],
 "metadata": {
  "kernelspec": {
   "display_name": "Python 3",
   "language": "python",
   "name": "python3"
  },
  "language_info": {
   "codemirror_mode": {
    "name": "ipython",
    "version": 3
   },
   "file_extension": ".py",
   "mimetype": "text/x-python",
   "name": "python",
   "nbconvert_exporter": "python",
   "pygments_lexer": "ipython3",
   "version": "3.7.3"
  }
 },
 "nbformat": 4,
 "nbformat_minor": 2
}
